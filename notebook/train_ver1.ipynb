{
  "cells": [
    {
      "cell_type": "code",
      "execution_count": null,
      "metadata": {
        "colab": {
          "base_uri": "https://localhost:8080/"
        },
        "id": "uxi2xUFqQJeZ",
        "outputId": "4772bd7b-61c7-400b-fa2d-25126db85d43"
      },
      "outputs": [
        {
          "output_type": "stream",
          "name": "stdout",
          "text": [
            "Requirement already satisfied: torch-geometric in /usr/local/lib/python3.10/dist-packages (2.5.3)\n",
            "Requirement already satisfied: tqdm in /usr/local/lib/python3.10/dist-packages (from torch-geometric) (4.66.5)\n",
            "Requirement already satisfied: numpy in /usr/local/lib/python3.10/dist-packages (from torch-geometric) (1.26.4)\n",
            "Requirement already satisfied: scipy in /usr/local/lib/python3.10/dist-packages (from torch-geometric) (1.13.1)\n",
            "Requirement already satisfied: fsspec in /usr/local/lib/python3.10/dist-packages (from torch-geometric) (2024.6.1)\n",
            "Requirement already satisfied: jinja2 in /usr/local/lib/python3.10/dist-packages (from torch-geometric) (3.1.4)\n",
            "Requirement already satisfied: aiohttp in /usr/local/lib/python3.10/dist-packages (from torch-geometric) (3.10.1)\n",
            "Requirement already satisfied: requests in /usr/local/lib/python3.10/dist-packages (from torch-geometric) (2.32.3)\n",
            "Requirement already satisfied: pyparsing in /usr/local/lib/python3.10/dist-packages (from torch-geometric) (3.1.2)\n",
            "Requirement already satisfied: scikit-learn in /usr/local/lib/python3.10/dist-packages (from torch-geometric) (1.3.2)\n",
            "Requirement already satisfied: psutil>=5.8.0 in /usr/local/lib/python3.10/dist-packages (from torch-geometric) (5.9.5)\n",
            "Requirement already satisfied: aiohappyeyeballs>=2.3.0 in /usr/local/lib/python3.10/dist-packages (from aiohttp->torch-geometric) (2.3.4)\n",
            "Requirement already satisfied: aiosignal>=1.1.2 in /usr/local/lib/python3.10/dist-packages (from aiohttp->torch-geometric) (1.3.1)\n",
            "Requirement already satisfied: attrs>=17.3.0 in /usr/local/lib/python3.10/dist-packages (from aiohttp->torch-geometric) (24.1.0)\n",
            "Requirement already satisfied: frozenlist>=1.1.1 in /usr/local/lib/python3.10/dist-packages (from aiohttp->torch-geometric) (1.4.1)\n",
            "Requirement already satisfied: multidict<7.0,>=4.5 in /usr/local/lib/python3.10/dist-packages (from aiohttp->torch-geometric) (6.0.5)\n",
            "Requirement already satisfied: yarl<2.0,>=1.0 in /usr/local/lib/python3.10/dist-packages (from aiohttp->torch-geometric) (1.9.4)\n",
            "Requirement already satisfied: async-timeout<5.0,>=4.0 in /usr/local/lib/python3.10/dist-packages (from aiohttp->torch-geometric) (4.0.3)\n",
            "Requirement already satisfied: MarkupSafe>=2.0 in /usr/local/lib/python3.10/dist-packages (from jinja2->torch-geometric) (2.1.5)\n",
            "Requirement already satisfied: charset-normalizer<4,>=2 in /usr/local/lib/python3.10/dist-packages (from requests->torch-geometric) (3.3.2)\n",
            "Requirement already satisfied: idna<4,>=2.5 in /usr/local/lib/python3.10/dist-packages (from requests->torch-geometric) (3.7)\n",
            "Requirement already satisfied: urllib3<3,>=1.21.1 in /usr/local/lib/python3.10/dist-packages (from requests->torch-geometric) (2.0.7)\n",
            "Requirement already satisfied: certifi>=2017.4.17 in /usr/local/lib/python3.10/dist-packages (from requests->torch-geometric) (2024.7.4)\n",
            "Requirement already satisfied: joblib>=1.1.1 in /usr/local/lib/python3.10/dist-packages (from scikit-learn->torch-geometric) (1.4.2)\n",
            "Requirement already satisfied: threadpoolctl>=2.0.0 in /usr/local/lib/python3.10/dist-packages (from scikit-learn->torch-geometric) (3.5.0)\n"
          ]
        }
      ],
      "source": [
        "!pip install torch-geometric"
      ]
    },
    {
      "cell_type": "code",
      "execution_count": null,
      "metadata": {
        "colab": {
          "base_uri": "https://localhost:8080/"
        },
        "id": "XPOURitjQlwa",
        "outputId": "3c1aad2c-931e-4baf-d508-1f484900ddd0"
      },
      "outputs": [
        {
          "output_type": "stream",
          "name": "stdout",
          "text": [
            "Mounted at /content/drive\n"
          ]
        }
      ],
      "source": [
        "from google.colab import drive\n",
        "drive.mount('/content/drive')"
      ]
    },
    {
      "cell_type": "code",
      "execution_count": null,
      "metadata": {
        "colab": {
          "base_uri": "https://localhost:8080/"
        },
        "id": "pK9x1_BZx_gS",
        "outputId": "af25f067-7a0c-44bb-96ae-3e212d900cd4"
      },
      "outputs": [
        {
          "output_type": "stream",
          "name": "stdout",
          "text": [
            "HeteroData(\n",
            "  user={\n",
            "    x=[2438690, 1],\n",
            "    card=[2438690, 1],\n",
            "    chip=[2438690, 1],\n",
            "  },\n",
            "  merchant={\n",
            "    x=[2438690, 1],\n",
            "    city=[2438690, 1],\n",
            "    mcc=[2438690, 1],\n",
            "  },\n",
            "  (user, transaction, merchant)={\n",
            "    edge_index=[2, 2438690],\n",
            "    amount=[2438690],\n",
            "    time=[2438690],\n",
            "    fraud=[2438690],\n",
            "  }\n",
            ")\n"
          ]
        },
        {
          "output_type": "stream",
          "name": "stderr",
          "text": [
            "<ipython-input-1-d87e8910fb50>:39: UserWarning: Creating a tensor from a list of numpy.ndarrays is extremely slow. Please consider converting the list to a single numpy.ndarray with numpy.array() before converting to a tensor. (Triggered internally at ../torch/csrc/utils/tensor_new.cpp:274.)\n",
            "  edge_index = torch.tensor([user_ids, merchant_ids], dtype=torch.long)\n"
          ]
        }
      ],
      "source": [
        "import pandas as pd\n",
        "import torch\n",
        "from torch_geometric.data import HeteroData\n",
        "from torch_geometric.loader import DataLoader\n",
        "import torch.nn.functional as F\n",
        "from torch_geometric.nn import SAGEConv\n",
        "import torch.optim as optim\n",
        "\n",
        "# 데이터 로드 및 전처리\n",
        "users = pd.read_csv('/chunk1/non_fraud_user.csv')\n",
        "users_fraud = pd.read_csv('/chunk1/fraud_user.csv')\n",
        "users = pd.concat([users, users_fraud], ignore_index=True)\n",
        "\n",
        "merchants = pd.read_csv('/chunk1/non_fraud_merchant.csv')\n",
        "merchants_fraud = pd.read_csv('/chunk1/fraud_merchant.csv')\n",
        "merchants = pd.concat([merchants, merchants_fraud], ignore_index=True)\n",
        "\n",
        "non_fraud_transactions = pd.read_csv('/chunk1/non_fraud_transaction.csv')\n",
        "fraud_transactions = pd.read_csv('/chunk1/fraud_transaction.csv')\n",
        "all_transactions = pd.concat([non_fraud_transactions, fraud_transactions], ignore_index=True)\n",
        "\n",
        "fraud_count = all_transactions[all_transactions['Is Fraud?'] == 1].shape[0]\n",
        "# HeteroData 객체 생성\n",
        "data = HeteroData()\n",
        "\n",
        "# 사용자 노드 추가 (+ feature)\n",
        "data['user'].x = torch.tensor(users[['User']].values, dtype=torch.float)\n",
        "data['user'].card = torch.tensor(users[['Card']].values, dtype=torch.float)\n",
        "data['user'].chip = torch.tensor(users[['Use Chip']].values, dtype=torch.float)\n",
        "\n",
        "# 판매자 노드 추가 (+ feature)\n",
        "data['merchant'].x = torch.tensor(merchants[['Merchant Name']].values, dtype=torch.float)\n",
        "data['merchant'].city = torch.tensor(merchants[['Merchant City']].values, dtype=torch.float)\n",
        "data['merchant'].mcc = torch.tensor(merchants[['MCC']].values, dtype=torch.float)\n",
        "\n",
        "# 엣지 추가\n",
        "user_ids = all_transactions['User'].values\n",
        "merchant_ids = all_transactions['Merchant Name'].values\n",
        "edge_index = torch.tensor([user_ids, merchant_ids], dtype=torch.long)\n",
        "data['user', 'transaction', 'merchant'].edge_index = edge_index\n",
        "\n",
        "# 엣지 특성 및 레이블 추가\n",
        "data['user', 'transaction', 'merchant'].amount = torch.tensor(all_transactions['Amount'].values, dtype=torch.float)\n",
        "data['user', 'transaction', 'merchant'].time = torch.tensor(all_transactions['Datetime_As_Float'].values, dtype=torch.float)\n",
        "data['user', 'transaction', 'merchant'].fraud = torch.tensor(all_transactions['Is Fraud?'].values, dtype=torch.float)\n",
        "print(data)\n",
        "\n"
      ]
    },
    {
      "cell_type": "code",
      "execution_count": null,
      "metadata": {
        "id": "lpXMb1nCyg7t"
      },
      "outputs": [],
      "source": [
        "import torch.nn.functional as F\n",
        "from torch_geometric.nn import SAGEConv\n",
        "\n",
        "class GNN(torch.nn.Module):\n",
        "    def __init__(self, in_channels_user, in_channels_merchant, hidden_channels, out_channels):\n",
        "        super(GNN, self).__init__()\n",
        "        self.conv1 = SAGEConv((in_channels_user, in_channels_merchant), hidden_channels)\n",
        "        self.conv2 = SAGEConv(hidden_channels, hidden_channels)\n",
        "        self.linear = torch.nn.Linear(hidden_channels, out_channels)\n",
        "\n",
        "    def forward(self, x_user, x_merchant, edge_index_user_to_merchant):\n",
        "        # 사용자 -> 상점 방향으로 메시지 전달\n",
        "        x_merchant = self.conv1((x_user, x_merchant), edge_index_user_to_merchant)\n",
        "        x_merchant = F.relu(x_merchant)\n",
        "\n",
        "        # 상점 -> 사용자 방향으로 메시지 전달\n",
        "        x_user = self.conv2(x_merchant, edge_index_user_to_merchant.flip([0]))  # Reverse edge direction\n",
        "        x_user = F.relu(x_user)\n",
        "\n",
        "        # 엣지의 최종 임베딩을 얻기 위해 선형 레이어를 사용하여 예측값을 얻음\n",
        "        edge_embedding = self.linear(x_user)\n",
        "\n",
        "        return edge_embedding\n",
        "\n"
      ]
    },
    {
      "cell_type": "code",
      "source": [
        "# 모델 초기화\n",
        "in_channels_user = data['user'].x.shape[1]  # 사용자 노드의 입력 채널 수\n",
        "in_channels_merchant = data['merchant'].x.shape[1]  # 판매자 노드의 입력 채널 수\n",
        "hidden_channels = 64  # 임의로 설정된 숨겨진 채널 크기\n",
        "out_channels = 1  # 이진 분류를 위한 출력 채널 수\n",
        "\n",
        "model = GNN(in_channels_user, in_channels_merchant, hidden_channels, out_channels)\n",
        "optimizer = torch.optim.Adam(model.parameters(), lr=0.01)\n",
        "criterion = torch.nn.BCEWithLogitsLoss()\n",
        "\n",
        "# 학습 루프\n",
        "epochs = 20\n",
        "for epoch in range(epochs):\n",
        "    model.train()\n",
        "    optimizer.zero_grad()\n",
        "\n",
        "    # 모델의 출력 예측값 계산\n",
        "    out = model(\n",
        "        data['user'].x,\n",
        "        data['merchant'].x,\n",
        "        data['user', 'transaction', 'merchant'].edge_index\n",
        "    )\n",
        "\n",
        "    # 레이블 (Is Fraud?)\n",
        "    label = data['user', 'transaction', 'merchant'].fraud\n",
        "\n",
        "    # 손실 계산\n",
        "    loss = criterion(out.squeeze(), label)\n",
        "\n",
        "    # 역전파 및 최적화\n",
        "    loss.backward()\n",
        "    optimizer.step()\n",
        "\n",
        "    print(f'Epoch [{epoch+1}/{epochs}], Loss: {loss.item():.4f}')\n",
        "\n"
      ],
      "metadata": {
        "colab": {
          "base_uri": "https://localhost:8080/"
        },
        "id": "i2JDUWl3LuhY",
        "outputId": "afbde67e-c97d-4379-8967-b6da73a601f1"
      },
      "execution_count": null,
      "outputs": [
        {
          "output_type": "stream",
          "name": "stdout",
          "text": [
            "Epoch [1/20], Loss: 298.1737\n",
            "Epoch [2/20], Loss: 2.7745\n",
            "Epoch [3/20], Loss: 4.5917\n",
            "Epoch [4/20], Loss: 5.9964\n",
            "Epoch [5/20], Loss: 7.2745\n",
            "Epoch [6/20], Loss: 8.3896\n",
            "Epoch [7/20], Loss: 9.3402\n",
            "Epoch [8/20], Loss: 10.1758\n",
            "Epoch [9/20], Loss: 10.9069\n",
            "Epoch [10/20], Loss: 11.5584\n",
            "Epoch [11/20], Loss: 12.1376\n",
            "Epoch [12/20], Loss: 12.6487\n",
            "Epoch [13/20], Loss: 13.0990\n",
            "Epoch [14/20], Loss: 13.4939\n",
            "Epoch [15/20], Loss: 13.8285\n",
            "Epoch [16/20], Loss: 14.1064\n",
            "Epoch [17/20], Loss: 14.3273\n",
            "Epoch [18/20], Loss: 14.4910\n",
            "Epoch [19/20], Loss: 14.5977\n",
            "Epoch [20/20], Loss: 14.6476\n"
          ]
        }
      ]
    },
    {
      "cell_type": "code",
      "source": [
        "model.eval()\n",
        "with torch.no_grad():\n",
        "    out = model(\n",
        "        data['user'].x,\n",
        "        data['merchant'].x,\n",
        "        data['user', 'transaction', 'merchant'].edge_index,\n",
        "    )\n",
        "\n",
        "    # 예측 확률 계산\n",
        "    predictions = torch.sigmoid(out).squeeze()\n",
        "\n",
        "    # 임계값을 넘는 경우를 이상치(사기 거래)로 간주\n",
        "    threshold = 0.001  # 예: 0.5 이상인 경우 사기 거래로 간주\n",
        "    anomalies = (predictions > threshold).float()\n",
        "\n",
        "    print(f\"Detected {anomalies.sum().item()} potential fraudulent transactions out of {len(anomalies)}\")\n"
      ],
      "metadata": {
        "colab": {
          "base_uri": "https://localhost:8080/"
        },
        "id": "bMXd4whQLuVJ",
        "outputId": "ba6022c0-67e9-4fb7-ee06-3e5056e6d43d"
      },
      "execution_count": null,
      "outputs": [
        {
          "output_type": "stream",
          "name": "stdout",
          "text": [
            "Detected 41.0 potential fraudulent transactions out of 2438690\n"
          ]
        }
      ]
    },
    {
      "cell_type": "code",
      "execution_count": null,
      "metadata": {
        "id": "JFpLGjy2pD4i"
      },
      "outputs": [],
      "source": []
    }
  ],
  "metadata": {
    "colab": {
      "machine_shape": "hm",
      "provenance": []
    },
    "kernelspec": {
      "display_name": "Python 3",
      "name": "python3"
    },
    "language_info": {
      "name": "python"
    }
  },
  "nbformat": 4,
  "nbformat_minor": 0
}